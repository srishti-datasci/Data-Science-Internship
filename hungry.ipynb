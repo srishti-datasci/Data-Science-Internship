{
 "cells": [
  {
   "cell_type": "code",
   "execution_count": 4,
   "id": "2db2679b",
   "metadata": {},
   "outputs": [
    {
     "name": "stdout",
     "output_type": "stream",
     "text": [
      "are you hungryyes\n",
      "eat samosa\n",
      "no\n"
     ]
    }
   ],
   "source": [
    "hungry=input(\"are you hungry\")\n",
    "if hungry==\"yes\":\n",
    "    print(\"eat samosa\")\n",
    "    print(\"no\")\n",
    "else:\n",
    "    print(\"do all your homework\")"
   ]
  },
  {
   "cell_type": "code",
   "execution_count": null,
   "id": "2114b488",
   "metadata": {},
   "outputs": [],
   "source": []
  }
 ],
 "metadata": {
  "kernelspec": {
   "display_name": "Python 3 (ipykernel)",
   "language": "python",
   "name": "python3"
  },
  "language_info": {
   "codemirror_mode": {
    "name": "ipython",
    "version": 3
   },
   "file_extension": ".py",
   "mimetype": "text/x-python",
   "name": "python",
   "nbconvert_exporter": "python",
   "pygments_lexer": "ipython3",
   "version": "3.11.5"
  }
 },
 "nbformat": 4,
 "nbformat_minor": 5
}
